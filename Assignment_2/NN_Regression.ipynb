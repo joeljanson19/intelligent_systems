{
 "cells": [
  {
   "cell_type": "markdown",
   "id": "e105a6b9",
   "metadata": {},
   "source": [
    "### Neural Network for Dataset 1 (Regression)"
   ]
  },
  {
   "cell_type": "code",
   "execution_count": 2002,
   "id": "c6428f9d",
   "metadata": {},
   "outputs": [],
   "source": [
    "import numpy as np\n",
    "from sklearn import datasets\n",
    "from sklearn.preprocessing import StandardScaler\n",
    "from sklearn.model_selection import train_test_split\n",
    "from sklearn.metrics import mean_squared_error,accuracy_score,classification_report\n",
    "import matplotlib.pyplot as plt\n",
    "import torch.nn.functional as F\n",
    "import torch\n",
    "import torch.nn as nn\n",
    "import torch.optim as optim\n",
    "from torch.utils.data import TensorDataset, DataLoader\n",
    "import pandas"
   ]
  },
  {
   "cell_type": "code",
   "execution_count": 2003,
   "id": "d0d0a9b6",
   "metadata": {},
   "outputs": [],
   "source": [
    "# CHOOSE DATASET\n",
    "\n",
    "# 1. Regression\n",
    "diabetes = datasets.load_diabetes(as_frame=True)\n",
    "X = diabetes.data.values\n",
    "y = diabetes.target.values\n",
    "\n",
    "# 2. Classification\n",
    "# diabetes = datasets.fetch_openml(name=\"diabetes\", version=1, as_frame=True)\n",
    "# X = diabetes.data.values\n",
    "# y = diabetes.target.astype(str).map({'tested_positive': 1, 'tested_negative': 0}).values"
   ]
  },
  {
   "cell_type": "code",
   "execution_count": 2004,
   "id": "aafa6216",
   "metadata": {},
   "outputs": [],
   "source": [
    "#train test spliting\n",
    "test_size=0.2\n",
    "Xtr, Xte, ytr, yte = train_test_split(X, y, test_size=test_size, random_state=42)"
   ]
  },
  {
   "cell_type": "code",
   "execution_count": 2005,
   "id": "2dfc9566",
   "metadata": {},
   "outputs": [],
   "source": [
    "# Standardize features\n",
    "scaler=StandardScaler()\n",
    "Xtr= scaler.fit_transform(Xtr)\n",
    "Xte= scaler.transform(Xte)"
   ]
  },
  {
   "cell_type": "markdown",
   "id": "c56f925b",
   "metadata": {},
   "source": [
    "### NN Architecture\n",
    "The architecture can be tuned by changing the number of layers, layer size and regularization (dropout). Dropout prevents overfitting by randomly \"dropping out\" (setting to zero) a fraction of the neurons during training, which forces the network to learn more robust and generalized features. Regularization is determined later together with other hyperparameters.  \n",
    "  \n",
    "It can be very hard to determine an optimal architecture but I ended up using the following:  \n",
    "**Regression**: 3 hidden layers with 64 neurons each.  \n",
    "**Classification**: 4 hidden layers with 64 neurons in the first three and 32 neurons in the last."
   ]
  },
  {
   "cell_type": "code",
   "execution_count": 2006,
   "id": "99c0966d",
   "metadata": {},
   "outputs": [],
   "source": [
    "class MLP(nn.Module):\n",
    "    def __init__(self, input_size, output_size=1, dropout_prob=0.5):\n",
    "        super(MLP, self).__init__()\n",
    "        \n",
    "        self.fc1 = nn.Linear(input_size, 64)\n",
    "        # self.fc2 = nn.Linear(64, 64)\n",
    "        self.fc3 = nn.Linear(64, 64)\n",
    "        self.fc4 = nn.Linear(64, 64)\n",
    "        self.out = nn.Linear(64, output_size)\n",
    "        \n",
    "        self.dropout = nn.Dropout(p=dropout_prob)\n",
    "        \n",
    "    def forward(self, x):\n",
    "        x = F.relu(self.fc1(x))\n",
    "        x = self.dropout(x)\n",
    "        \n",
    "        # x = F.relu(self.fc2(x))\n",
    "        # x = self.dropout(x)\n",
    "        \n",
    "        x = F.relu(self.fc3(x))\n",
    "        x = self.dropout(x)\n",
    "        \n",
    "        x = F.relu(self.fc4(x))\n",
    "        x = self.dropout(x)\n",
    "        \n",
    "        x = self.out(x)\n",
    "        return x"
   ]
  },
  {
   "cell_type": "markdown",
   "id": "1bac455b",
   "metadata": {},
   "source": [
    "### Hyperparameters\n",
    "- **`num_epochs`** – Number of training passes over the entire dataset. Don't want too many epochs to avoid overfitting to noise.  \n",
    "- **`lr`** – Learning rate. Step size for updating weights during training. Controls how fast the model learns.  \n",
    "- **`dropout`** – Fraction of neurons randomly dropped during training to reduce overfitting. In this task I'm using 10% but for toy datasets, higher fraction could be used.  \n",
    "- **`batch_size`** – Number of samples processed before updating the model. If too much RAM is being used, this value could for example be dropped to 32.  \n",
    "  \n",
    "After tuning the model, the following values were chosen for the different datasets:  \n",
    "**Regression**: `num_epochs`=60, `lr`=0.001, `dropout`=0.1, `batch_size`=64  \n",
    "**Classification**: `num_epochs`=75, `lr`=0.001, `dropout`=0.1, `batch_size`=64  \n",
    "  \n",
    "Important to note is that these values are not necessarily fully optimized. Training the model over and over with the same hyperparameters can give very different performance."
   ]
  },
  {
   "cell_type": "code",
   "execution_count": 2007,
   "id": "2ab972de",
   "metadata": {},
   "outputs": [],
   "source": [
    "num_epochs=60 \n",
    "lr=0.001\n",
    "dropout=0.1\n",
    "batch_size=64 "
   ]
  },
  {
   "cell_type": "code",
   "execution_count": 2008,
   "id": "49298ada",
   "metadata": {},
   "outputs": [],
   "source": [
    "Xtr = torch.tensor(Xtr, dtype=torch.float32)\n",
    "ytr = torch.tensor(ytr, dtype=torch.float32)\n",
    "Xte = torch.tensor(Xte, dtype=torch.float32)\n",
    "yte = torch.tensor(yte, dtype=torch.float32)\n",
    "\n",
    "# Wrap Xtr and ytr into a dataset\n",
    "train_dataset = TensorDataset(Xtr, ytr)\n",
    "\n",
    "# Create DataLoader\n",
    "train_dataloader = DataLoader(train_dataset, batch_size=batch_size, shuffle=True)"
   ]
  },
  {
   "cell_type": "code",
   "execution_count": 2009,
   "id": "8e649c6f",
   "metadata": {},
   "outputs": [],
   "source": [
    "# Model, Loss, Optimizer\n",
    "# device = torch.device(\"cuda\" if torch.cuda.is_available() else \"cpu\")  \n",
    "# Ignoring this line since I'm not using cuda\n",
    "\n",
    "model = MLP(input_size=Xtr.shape[1], dropout_prob=dropout)#.to(device)\n",
    "# criterion = nn.BCEWithLogitsLoss()  # for binary classification\n",
    "criterion = nn.MSELoss() # for regression\n",
    "optimizer = optim.Adam(model.parameters(), lr=lr) #can use different optimizer such as AdamW but not necessary"
   ]
  },
  {
   "cell_type": "code",
   "execution_count": 2010,
   "id": "e02dec66",
   "metadata": {},
   "outputs": [
    {
     "name": "stdout",
     "output_type": "stream",
     "text": [
      "Epoch [1/60], Loss: 29575.9437\n",
      "Epoch [2/60], Loss: 30131.5693\n",
      "Epoch [3/60], Loss: 29604.6950\n",
      "Epoch [4/60], Loss: 29306.4294\n",
      "Epoch [5/60], Loss: 28574.7874\n",
      "Epoch [6/60], Loss: 28728.4570\n",
      "Epoch [7/60], Loss: 27837.8532\n",
      "Epoch [8/60], Loss: 27302.4528\n",
      "Epoch [9/60], Loss: 26152.4359\n",
      "Epoch [10/60], Loss: 23954.2630\n",
      "Epoch [11/60], Loss: 21583.5163\n",
      "Epoch [12/60], Loss: 18228.2782\n",
      "Epoch [13/60], Loss: 14263.4688\n",
      "Epoch [14/60], Loss: 10740.4442\n",
      "Epoch [15/60], Loss: 8089.3803\n",
      "Epoch [16/60], Loss: 6009.1539\n",
      "Epoch [17/60], Loss: 5237.9879\n",
      "Epoch [18/60], Loss: 5130.6556\n",
      "Epoch [19/60], Loss: 4511.1023\n",
      "Epoch [20/60], Loss: 4366.9094\n",
      "Epoch [21/60], Loss: 3985.4761\n",
      "Epoch [22/60], Loss: 4150.6009\n",
      "Epoch [23/60], Loss: 3794.2279\n",
      "Epoch [24/60], Loss: 4077.5017\n",
      "Epoch [25/60], Loss: 3815.5411\n",
      "Epoch [26/60], Loss: 3694.2213\n",
      "Epoch [27/60], Loss: 3857.4960\n",
      "Epoch [28/60], Loss: 3602.5615\n",
      "Epoch [29/60], Loss: 3520.0992\n",
      "Epoch [30/60], Loss: 3633.3056\n",
      "Epoch [31/60], Loss: 3381.4645\n",
      "Epoch [32/60], Loss: 3406.5404\n",
      "Epoch [33/60], Loss: 3482.0994\n",
      "Epoch [34/60], Loss: 3377.6129\n",
      "Epoch [35/60], Loss: 3291.2661\n",
      "Epoch [36/60], Loss: 3390.1335\n",
      "Epoch [37/60], Loss: 3315.6458\n",
      "Epoch [38/60], Loss: 3360.6391\n",
      "Epoch [39/60], Loss: 3155.7889\n",
      "Epoch [40/60], Loss: 3310.3440\n",
      "Epoch [41/60], Loss: 3240.7974\n",
      "Epoch [42/60], Loss: 3283.4766\n",
      "Epoch [43/60], Loss: 3320.3667\n",
      "Epoch [44/60], Loss: 3248.5180\n",
      "Epoch [45/60], Loss: 3157.4210\n",
      "Epoch [46/60], Loss: 3276.6381\n",
      "Epoch [47/60], Loss: 3230.1724\n",
      "Epoch [48/60], Loss: 3087.7275\n",
      "Epoch [49/60], Loss: 2932.4183\n",
      "Epoch [50/60], Loss: 3325.6077\n",
      "Epoch [51/60], Loss: 3025.9305\n",
      "Epoch [52/60], Loss: 3018.6002\n",
      "Epoch [53/60], Loss: 3288.2196\n",
      "Epoch [54/60], Loss: 3188.2162\n",
      "Epoch [55/60], Loss: 3165.9945\n",
      "Epoch [56/60], Loss: 3100.1974\n",
      "Epoch [57/60], Loss: 3166.8178\n",
      "Epoch [58/60], Loss: 3157.9259\n",
      "Epoch [59/60], Loss: 3119.9365\n",
      "Epoch [60/60], Loss: 3030.1863\n"
     ]
    }
   ],
   "source": [
    "# Training loop\n",
    "for epoch in range(num_epochs):\n",
    "    model.train() #train or evolve\n",
    "    epoch_loss = 0.0\n",
    "\n",
    "    for batch_x, batch_y in train_dataloader:\n",
    "        batch_x = batch_x#.to(device)\n",
    "        batch_y = batch_y#.to(device)\n",
    "\n",
    "        logits = model(batch_x)\n",
    "        loss = criterion(logits, batch_y.view(-1, 1))\n",
    "\n",
    "        optimizer.zero_grad()\n",
    "        loss.backward() #directly related to the forward function defined above\n",
    "        optimizer.step()\n",
    "\n",
    "        epoch_loss += loss.item()\n",
    "\n",
    "    avg_loss = epoch_loss / len(train_dataloader)\n",
    "    print(f\"Epoch [{epoch+1}/{num_epochs}], Loss: {avg_loss:.4f}\")"
   ]
  },
  {
   "cell_type": "markdown",
   "id": "b8c0cd98",
   "metadata": {},
   "source": [
    "We print `mean_squared_error` and `accuracy_score` as indications of the performance of the model for regression and classification respectively."
   ]
  },
  {
   "cell_type": "code",
   "execution_count": 2011,
   "id": "dc271f10",
   "metadata": {},
   "outputs": [
    {
     "name": "stdout",
     "output_type": "stream",
     "text": [
      "MSE:2840.69287109375\n"
     ]
    }
   ],
   "source": [
    "y_pred=model(Xte)\n",
    "# Performance metric for regression\n",
    "print(f'MSE:{mean_squared_error(yte.detach().numpy(),y_pred.detach().numpy())}') \n",
    "\n",
    "# Performance metric for classification\n",
    "# print(f'ACC:{accuracy_score(yte.detach().numpy(),y_pred.detach().numpy()>0.5)}') \n"
   ]
  }
 ],
 "metadata": {
  "kernelspec": {
   "display_name": "base",
   "language": "python",
   "name": "python3"
  },
  "language_info": {
   "codemirror_mode": {
    "name": "ipython",
    "version": 3
   },
   "file_extension": ".py",
   "mimetype": "text/x-python",
   "name": "python",
   "nbconvert_exporter": "python",
   "pygments_lexer": "ipython3",
   "version": "3.12.9"
  }
 },
 "nbformat": 4,
 "nbformat_minor": 5
}
